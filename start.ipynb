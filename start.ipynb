{
 "cells": [
  {
   "cell_type": "markdown",
   "id": "593bab71",
   "metadata": {},
   "source": [
    "# Modelo de regresión lineal \n",
    "\n",
    "### Carlos Alberto Mentado Reyes A01276065"
   ]
  },
  {
   "cell_type": "code",
   "execution_count": 153,
   "id": "5f9d990b",
   "metadata": {},
   "outputs": [],
   "source": [
    "import pandas as pd \n",
    "import numpy as np\n",
    "from sklearn.model_selection import train_test_split"
   ]
  },
  {
   "cell_type": "markdown",
   "id": "b9733d31",
   "metadata": {},
   "source": [
    " Primero definiré funciones necesarias, como costo, coeficiente de determinación etc "
   ]
  },
  {
   "cell_type": "code",
   "execution_count": 154,
   "id": "06ab5489",
   "metadata": {},
   "outputs": [],
   "source": [
    "# Función de covarianza y correlación\n",
    "\n",
    "def covariance(x, y):\n",
    "    y_mean = y.mean()\n",
    "    x_mean = x.mean()\n",
    "    cov = 0\n",
    "    for i in range(len(x)):\n",
    "        cov += (x[i] - x_mean) * (y[i] - y_mean)\n",
    "\n",
    "    return cov / (len(x) - 1)\n",
    "\n",
    "def correlation(x, y):\n",
    "    return covariance(x, y) / (x.std() * y.std())\n"
   ]
  },
  {
   "cell_type": "code",
   "execution_count": 155,
   "id": "a62d9ec5",
   "metadata": {},
   "outputs": [],
   "source": [
    "# Función predict y función costo \n",
    "\n",
    "def predict(x, w, b):\n",
    "    return w * x + b\n",
    "\n",
    "def cost(y, y_pred):\n",
    "    cost = 0\n",
    "    for i in range(0, len(y)):\n",
    "        cost += (y.iloc[i] - y_pred[i]) ** 2\n",
    "    return cost / len(y)"
   ]
  },
  {
   "cell_type": "code",
   "execution_count": 156,
   "id": "e4772ef2",
   "metadata": {},
   "outputs": [],
   "source": [
    "# Función descenso de gradiente w y b \n",
    "\n",
    "def b_gradient_descent(x, w, b, lr,y):\n",
    "    n = len(x)\n",
    "    partial_b_sum = 0\n",
    "    for i in range(0, n):\n",
    "        partial_b_sum += (y.iloc[i] - b - (w*x.iloc[i])) * (-1)\n",
    "\n",
    "    partial_b = partial_b_sum * (2/n)\n",
    "\n",
    "    return b - lr*(partial_b)\n",
    "\n",
    "\n",
    "\n",
    "def w_gradient_descent(x, w, b, lr, y):\n",
    "    n = len(x)\n",
    "    partial_w_sum = 0\n",
    "    for i in range(0, n):\n",
    "        partial_w_sum += (y.iloc[i]-b-(w*x.iloc[i])) * ((-1)*x.iloc[i])\n",
    "    partial_w = partial_w_sum * (2/n)\n",
    "\n",
    "    return w - lr * partial_w\n"
   ]
  },
  {
   "cell_type": "code",
   "execution_count": 157,
   "id": "f7409fe3",
   "metadata": {},
   "outputs": [],
   "source": [
    "#Función general\n",
    "\n",
    "def trainModel(x, y, lr, max_iter):\n",
    "    if len(x) != len(y):\n",
    "        print(\"size of arrays for features and targets do not match\")\n",
    "        return\n",
    "\n",
    "    np.random.seed(42)\n",
    "    w = 1\n",
    "    b = 1\n",
    "    model_cost = float(\"inf\")\n",
    "    iter_cost = float(\"inf\")\n",
    "\n",
    "    for i in range(0, max_iter):\n",
    "        predictions=[]\n",
    "\n",
    "        for j in range(0, len(x)):\n",
    "            predictions.append(predict(x.iloc[j], w, b))\n",
    "        \n",
    "        iter_cost = cost(y, predictions)\n",
    "        if (iter_cost>model_cost):\n",
    "            break\n",
    "        model_cost = iter_cost\n",
    "        w = w_gradient_descent(x, w, b, lr, y)\n",
    "        b = b_gradient_descent(x, w, b, lr, y)\n",
    "\n",
    "    return w, b\n",
    "\n",
    "def testModel(w, b, x, y):\n",
    "    predictions = []\n",
    "    for i in range(0, len(x)):\n",
    "        predictions.append(predict(x.iloc[i], w, b))\n",
    "    \n",
    "    results = cost(y, predictions)\n",
    "\n",
    "    return results\n"
   ]
  },
  {
   "cell_type": "code",
   "execution_count": 158,
   "id": "3958b7f3",
   "metadata": {},
   "outputs": [],
   "source": [
    "#Funcion para entrenar y testear \n",
    "\n",
    "def linearModel(x_train, x_test, y_train, y_test, lr=0.1, max_iter=100):\n",
    "    print(\"Beggining training\")\n",
    "    print(f\"Max iterations: {max_iter}\")\n",
    "    print(f\"Learning rate: {lr}\")\n",
    "    w, b = trainModel(x_train, y_train, lr, max_iter)\n",
    "\n",
    "    results = testModel(w, b, x_test, y_test)\n",
    "\n",
    "    print(\"Final results:\")\n",
    "    print(f\"y = {np.mean(w)}x + {np.mean(b)}\")\n",
    "    print(f\"Final cost: {np.mean(results)}\")\n"
   ]
  },
  {
   "cell_type": "code",
   "execution_count": 159,
   "id": "01ebf28b",
   "metadata": {},
   "outputs": [
    {
     "name": "stdout",
     "output_type": "stream",
     "text": [
      "Beggining training\n",
      "Max iterations: 100\n",
      "Learning rate: 0.001\n",
      "Final results:\n",
      "y = 373.13530427947603x + -23.37601529894488\n",
      "Final cost: 150789081.0495064\n"
     ]
    }
   ],
   "source": [
    "#Pequeña prueba\n",
    "\n",
    "#Bases de datos a utilizar\n",
    "url = \"https://raw.githubusercontent.com/allisonhorst/palmerpenguins/c19a904462482430170bfe2c718775ddb7dbb885/inst/extdata/penguins_raw.csv\"\n",
    "\n",
    "penguins = pd.read_csv(url)\n",
    "penguins_target = penguins[\"Body Mass (g)\"].dropna()\n",
    "penguins_feature = penguins[\"Culmen Length (mm)\"].dropna()\n",
    "\n",
    "X_train, X_test, y_train, y_test = train_test_split(\n",
    "    penguins_feature, penguins_target, test_size=0.33, random_state=42\n",
    ")\n",
    "\n",
    "linearModel(\n",
    "    X_train,\n",
    "    X_test,\n",
    "    y_train,\n",
    "    y_test,\n",
    "    0.001,\n",
    "    100\n",
    ")\n",
    "\n"
   ]
  }
 ],
 "metadata": {
  "kernelspec": {
   "display_name": ".venv",
   "language": "python",
   "name": "python3"
  },
  "language_info": {
   "codemirror_mode": {
    "name": "ipython",
    "version": 3
   },
   "file_extension": ".py",
   "mimetype": "text/x-python",
   "name": "python",
   "nbconvert_exporter": "python",
   "pygments_lexer": "ipython3",
   "version": "3.13.0"
  }
 },
 "nbformat": 4,
 "nbformat_minor": 5
}
